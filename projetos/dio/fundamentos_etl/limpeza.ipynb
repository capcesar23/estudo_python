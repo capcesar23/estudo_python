{
 "metadata": {
  "language_info": {
   "codemirror_mode": {
    "name": "ipython",
    "version": 3
   },
   "file_extension": ".py",
   "mimetype": "text/x-python",
   "name": "python",
   "nbconvert_exporter": "python",
   "pygments_lexer": "ipython3",
   "version": "3.8.10"
  },
  "orig_nbformat": 4,
  "kernelspec": {
   "name": "python3",
   "display_name": "Python 3.8.10 64-bit ('ambiente': conda)"
  },
  "interpreter": {
   "hash": "949e36b4dbe264f00c6e372ad220142199b182b6ddd7488b2265943ef356f947"
  }
 },
 "nbformat": 4,
 "nbformat_minor": 2,
 "cells": [
  {
   "cell_type": "code",
   "execution_count": 1,
   "metadata": {},
   "outputs": [],
   "source": [
    "import pandas as pd\n",
    "import pandera as pa"
   ]
  },
  {
   "cell_type": "code",
   "execution_count": 2,
   "metadata": {},
   "outputs": [
    {
     "output_type": "execute_result",
     "data": {
      "text/plain": [
       "   codigo_ocorrencia  codigo_ocorrencia2 ocorrencia_classificacao  \\\n",
       "0              40211               40211                INCIDENTE   \n",
       "1              40349               40349                INCIDENTE   \n",
       "2              40351               40351                INCIDENTE   \n",
       "3              39527               39527                 ACIDENTE   \n",
       "4              40324               40324                INCIDENTE   \n",
       "\n",
       "    ocorrencia_cidade ocorrencia_uf ocorrencia_aerodromo ocorrencia_dia  \\\n",
       "0      RIO DE JANEIRO            RJ                 ****     2010-01-03   \n",
       "1               BELÉM            PA                 SBBE     2010-01-03   \n",
       "2      RIO DE JANEIRO            RJ                 SBRJ     2010-01-03   \n",
       "3  LUCAS DO RIO VERDE            MT                 ****     2010-01-04   \n",
       "4             PELOTAS            RS                 SBPK     2010-01-05   \n",
       "\n",
       "  ocorrencia_hora total_recomendacoes  \n",
       "0        12:00:00                   0  \n",
       "1        11:05:00                   0  \n",
       "2        03:00:00                   0  \n",
       "3        17:30:00                   0  \n",
       "4        19:25:00                   0  "
      ],
      "text/html": "<div>\n<style scoped>\n    .dataframe tbody tr th:only-of-type {\n        vertical-align: middle;\n    }\n\n    .dataframe tbody tr th {\n        vertical-align: top;\n    }\n\n    .dataframe thead th {\n        text-align: right;\n    }\n</style>\n<table border=\"1\" class=\"dataframe\">\n  <thead>\n    <tr style=\"text-align: right;\">\n      <th></th>\n      <th>codigo_ocorrencia</th>\n      <th>codigo_ocorrencia2</th>\n      <th>ocorrencia_classificacao</th>\n      <th>ocorrencia_cidade</th>\n      <th>ocorrencia_uf</th>\n      <th>ocorrencia_aerodromo</th>\n      <th>ocorrencia_dia</th>\n      <th>ocorrencia_hora</th>\n      <th>total_recomendacoes</th>\n    </tr>\n  </thead>\n  <tbody>\n    <tr>\n      <th>0</th>\n      <td>40211</td>\n      <td>40211</td>\n      <td>INCIDENTE</td>\n      <td>RIO DE JANEIRO</td>\n      <td>RJ</td>\n      <td>****</td>\n      <td>2010-01-03</td>\n      <td>12:00:00</td>\n      <td>0</td>\n    </tr>\n    <tr>\n      <th>1</th>\n      <td>40349</td>\n      <td>40349</td>\n      <td>INCIDENTE</td>\n      <td>BELÉM</td>\n      <td>PA</td>\n      <td>SBBE</td>\n      <td>2010-01-03</td>\n      <td>11:05:00</td>\n      <td>0</td>\n    </tr>\n    <tr>\n      <th>2</th>\n      <td>40351</td>\n      <td>40351</td>\n      <td>INCIDENTE</td>\n      <td>RIO DE JANEIRO</td>\n      <td>RJ</td>\n      <td>SBRJ</td>\n      <td>2010-01-03</td>\n      <td>03:00:00</td>\n      <td>0</td>\n    </tr>\n    <tr>\n      <th>3</th>\n      <td>39527</td>\n      <td>39527</td>\n      <td>ACIDENTE</td>\n      <td>LUCAS DO RIO VERDE</td>\n      <td>MT</td>\n      <td>****</td>\n      <td>2010-01-04</td>\n      <td>17:30:00</td>\n      <td>0</td>\n    </tr>\n    <tr>\n      <th>4</th>\n      <td>40324</td>\n      <td>40324</td>\n      <td>INCIDENTE</td>\n      <td>PELOTAS</td>\n      <td>RS</td>\n      <td>SBPK</td>\n      <td>2010-01-05</td>\n      <td>19:25:00</td>\n      <td>0</td>\n    </tr>\n  </tbody>\n</table>\n</div>"
     },
     "metadata": {},
     "execution_count": 2
    }
   ],
   "source": [
    "df = pd.read_csv(\"ocorrencia_2010_2020.csv\", sep=',', parse_dates=['ocorrencia_dia'], dayfirst=True)\n",
    "df.head()"
   ]
  },
  {
   "cell_type": "code",
   "execution_count": 3,
   "metadata": {},
   "outputs": [
    {
     "output_type": "execute_result",
     "data": {
      "text/plain": [
       "   codigo_ocorrencia  codigo_ocorrencia2 ocorrencia_classificacao  \\\n",
       "1              40349               40349                INCIDENTE   \n",
       "2              40351               40351                INCIDENTE   \n",
       "3              39527               39527                 ACIDENTE   \n",
       "\n",
       "    ocorrencia_cidade ocorrencia_uf ocorrencia_aerodromo ocorrencia_dia  \\\n",
       "1               BELÉM            PA                 SBBE     2010-01-03   \n",
       "2      RIO DE JANEIRO            RJ                 SBRJ     2010-01-03   \n",
       "3  LUCAS DO RIO VERDE            MT                 ****     2010-01-04   \n",
       "\n",
       "  ocorrencia_hora total_recomendacoes  \n",
       "1        11:05:00                   0  \n",
       "2        03:00:00                   0  \n",
       "3        17:30:00                   0  "
      ],
      "text/html": "<div>\n<style scoped>\n    .dataframe tbody tr th:only-of-type {\n        vertical-align: middle;\n    }\n\n    .dataframe tbody tr th {\n        vertical-align: top;\n    }\n\n    .dataframe thead th {\n        text-align: right;\n    }\n</style>\n<table border=\"1\" class=\"dataframe\">\n  <thead>\n    <tr style=\"text-align: right;\">\n      <th></th>\n      <th>codigo_ocorrencia</th>\n      <th>codigo_ocorrencia2</th>\n      <th>ocorrencia_classificacao</th>\n      <th>ocorrencia_cidade</th>\n      <th>ocorrencia_uf</th>\n      <th>ocorrencia_aerodromo</th>\n      <th>ocorrencia_dia</th>\n      <th>ocorrencia_hora</th>\n      <th>total_recomendacoes</th>\n    </tr>\n  </thead>\n  <tbody>\n    <tr>\n      <th>1</th>\n      <td>40349</td>\n      <td>40349</td>\n      <td>INCIDENTE</td>\n      <td>BELÉM</td>\n      <td>PA</td>\n      <td>SBBE</td>\n      <td>2010-01-03</td>\n      <td>11:05:00</td>\n      <td>0</td>\n    </tr>\n    <tr>\n      <th>2</th>\n      <td>40351</td>\n      <td>40351</td>\n      <td>INCIDENTE</td>\n      <td>RIO DE JANEIRO</td>\n      <td>RJ</td>\n      <td>SBRJ</td>\n      <td>2010-01-03</td>\n      <td>03:00:00</td>\n      <td>0</td>\n    </tr>\n    <tr>\n      <th>3</th>\n      <td>39527</td>\n      <td>39527</td>\n      <td>ACIDENTE</td>\n      <td>LUCAS DO RIO VERDE</td>\n      <td>MT</td>\n      <td>****</td>\n      <td>2010-01-04</td>\n      <td>17:30:00</td>\n      <td>0</td>\n    </tr>\n  </tbody>\n</table>\n</div>"
     },
     "metadata": {},
     "execution_count": 3
    }
   ],
   "source": [
    "df.loc[1:3]"
   ]
  },
  {
   "cell_type": "code",
   "execution_count": 4,
   "metadata": {},
   "outputs": [
    {
     "output_type": "execute_result",
     "data": {
      "text/plain": [
       "'BELÉM'"
      ]
     },
     "metadata": {},
     "execution_count": 4
    }
   ],
   "source": [
    "df.loc[1,\"ocorrencia_cidade\" ]"
   ]
  },
  {
   "cell_type": "code",
   "execution_count": 5,
   "metadata": {},
   "outputs": [
    {
     "output_type": "execute_result",
     "data": {
      "text/plain": [
       "0       RJ\n",
       "1       PA\n",
       "2       RJ\n",
       "3       MT\n",
       "4       RS\n",
       "        ..\n",
       "5747    SP\n",
       "5748    TO\n",
       "5749    RJ\n",
       "5750    MS\n",
       "5751    RJ\n",
       "Name: ocorrencia_uf, Length: 5752, dtype: object"
      ]
     },
     "metadata": {},
     "execution_count": 5
    }
   ],
   "source": [
    "df.loc[:,\"ocorrencia_uf\"]"
   ]
  },
  {
   "cell_type": "code",
   "execution_count": 6,
   "metadata": {},
   "outputs": [
    {
     "output_type": "execute_result",
     "data": {
      "text/plain": [
       "      codigo_ocorrencia  codigo_ocorrencia2 ocorrencia_classificacao  \\\n",
       "11                40069               40069                 ACIDENTE   \n",
       "16                39809               39809                INCIDENTE   \n",
       "18                39828               39828                INCIDENTE   \n",
       "26                39847               39847                INCIDENTE   \n",
       "27                39768               39768                INCIDENTE   \n",
       "...                 ...                 ...                      ...   \n",
       "5704              79739               79739          INCIDENTE GRAVE   \n",
       "5705              79705               79705          INCIDENTE GRAVE   \n",
       "5715              79718               79718          INCIDENTE GRAVE   \n",
       "5742              79800               79800                INCIDENTE   \n",
       "5747              79804               79804                INCIDENTE   \n",
       "\n",
       "     ocorrencia_cidade ocorrencia_uf ocorrencia_aerodromo ocorrencia_dia  \\\n",
       "11           SÃO PAULO            SP                 SBMT     2010-01-10   \n",
       "16           SÃO PAULO            SP                 ****     2010-01-15   \n",
       "18              SANTOS            SP                 ****     2010-01-15   \n",
       "26            SOROCABA            SP                 ****     2010-01-20   \n",
       "27            CAMPINAS            SP                 ****     2010-01-21   \n",
       "...                ...           ...                  ...            ...   \n",
       "5704         SÃO PAULO            SP                 SBSP     2020-12-03   \n",
       "5705          SOROCABA            SP                 SDCO     2020-12-04   \n",
       "5715         SÃO PAULO            SP                 SBMT     2020-12-11   \n",
       "5742         SÃO PAULO            SP                 SBMT     2020-12-28   \n",
       "5747          CAMPINAS            SP                 SBKP     2020-12-29   \n",
       "\n",
       "     ocorrencia_hora total_recomendacoes  \n",
       "11          14:50:00                   8  \n",
       "16          15:00:00                   0  \n",
       "18          17:45:00                   0  \n",
       "26          13:10:00                   0  \n",
       "27          20:45:00                   0  \n",
       "...              ...                 ...  \n",
       "5704        14:42:00                   0  \n",
       "5705        15:30:00                   0  \n",
       "5715        13:50:00                   0  \n",
       "5742        10:15:00                   0  \n",
       "5747        19:00:00                   0  \n",
       "\n",
       "[1373 rows x 9 columns]"
      ],
      "text/html": "<div>\n<style scoped>\n    .dataframe tbody tr th:only-of-type {\n        vertical-align: middle;\n    }\n\n    .dataframe tbody tr th {\n        vertical-align: top;\n    }\n\n    .dataframe thead th {\n        text-align: right;\n    }\n</style>\n<table border=\"1\" class=\"dataframe\">\n  <thead>\n    <tr style=\"text-align: right;\">\n      <th></th>\n      <th>codigo_ocorrencia</th>\n      <th>codigo_ocorrencia2</th>\n      <th>ocorrencia_classificacao</th>\n      <th>ocorrencia_cidade</th>\n      <th>ocorrencia_uf</th>\n      <th>ocorrencia_aerodromo</th>\n      <th>ocorrencia_dia</th>\n      <th>ocorrencia_hora</th>\n      <th>total_recomendacoes</th>\n    </tr>\n  </thead>\n  <tbody>\n    <tr>\n      <th>11</th>\n      <td>40069</td>\n      <td>40069</td>\n      <td>ACIDENTE</td>\n      <td>SÃO PAULO</td>\n      <td>SP</td>\n      <td>SBMT</td>\n      <td>2010-01-10</td>\n      <td>14:50:00</td>\n      <td>8</td>\n    </tr>\n    <tr>\n      <th>16</th>\n      <td>39809</td>\n      <td>39809</td>\n      <td>INCIDENTE</td>\n      <td>SÃO PAULO</td>\n      <td>SP</td>\n      <td>****</td>\n      <td>2010-01-15</td>\n      <td>15:00:00</td>\n      <td>0</td>\n    </tr>\n    <tr>\n      <th>18</th>\n      <td>39828</td>\n      <td>39828</td>\n      <td>INCIDENTE</td>\n      <td>SANTOS</td>\n      <td>SP</td>\n      <td>****</td>\n      <td>2010-01-15</td>\n      <td>17:45:00</td>\n      <td>0</td>\n    </tr>\n    <tr>\n      <th>26</th>\n      <td>39847</td>\n      <td>39847</td>\n      <td>INCIDENTE</td>\n      <td>SOROCABA</td>\n      <td>SP</td>\n      <td>****</td>\n      <td>2010-01-20</td>\n      <td>13:10:00</td>\n      <td>0</td>\n    </tr>\n    <tr>\n      <th>27</th>\n      <td>39768</td>\n      <td>39768</td>\n      <td>INCIDENTE</td>\n      <td>CAMPINAS</td>\n      <td>SP</td>\n      <td>****</td>\n      <td>2010-01-21</td>\n      <td>20:45:00</td>\n      <td>0</td>\n    </tr>\n    <tr>\n      <th>...</th>\n      <td>...</td>\n      <td>...</td>\n      <td>...</td>\n      <td>...</td>\n      <td>...</td>\n      <td>...</td>\n      <td>...</td>\n      <td>...</td>\n      <td>...</td>\n    </tr>\n    <tr>\n      <th>5704</th>\n      <td>79739</td>\n      <td>79739</td>\n      <td>INCIDENTE GRAVE</td>\n      <td>SÃO PAULO</td>\n      <td>SP</td>\n      <td>SBSP</td>\n      <td>2020-12-03</td>\n      <td>14:42:00</td>\n      <td>0</td>\n    </tr>\n    <tr>\n      <th>5705</th>\n      <td>79705</td>\n      <td>79705</td>\n      <td>INCIDENTE GRAVE</td>\n      <td>SOROCABA</td>\n      <td>SP</td>\n      <td>SDCO</td>\n      <td>2020-12-04</td>\n      <td>15:30:00</td>\n      <td>0</td>\n    </tr>\n    <tr>\n      <th>5715</th>\n      <td>79718</td>\n      <td>79718</td>\n      <td>INCIDENTE GRAVE</td>\n      <td>SÃO PAULO</td>\n      <td>SP</td>\n      <td>SBMT</td>\n      <td>2020-12-11</td>\n      <td>13:50:00</td>\n      <td>0</td>\n    </tr>\n    <tr>\n      <th>5742</th>\n      <td>79800</td>\n      <td>79800</td>\n      <td>INCIDENTE</td>\n      <td>SÃO PAULO</td>\n      <td>SP</td>\n      <td>SBMT</td>\n      <td>2020-12-28</td>\n      <td>10:15:00</td>\n      <td>0</td>\n    </tr>\n    <tr>\n      <th>5747</th>\n      <td>79804</td>\n      <td>79804</td>\n      <td>INCIDENTE</td>\n      <td>CAMPINAS</td>\n      <td>SP</td>\n      <td>SBKP</td>\n      <td>2020-12-29</td>\n      <td>19:00:00</td>\n      <td>0</td>\n    </tr>\n  </tbody>\n</table>\n<p>1373 rows × 9 columns</p>\n</div>"
     },
     "metadata": {},
     "execution_count": 6
    }
   ],
   "source": [
    "df.loc[df.ocorrencia_uf\t== 'SP']"
   ]
  },
  {
   "cell_type": "code",
   "execution_count": 7,
   "metadata": {},
   "outputs": [
    {
     "output_type": "error",
     "ename": "SyntaxError",
     "evalue": "invalid syntax (<ipython-input-7-92c32c96283d>, line 2)",
     "traceback": [
      "\u001b[0;36m  File \u001b[0;32m\"<ipython-input-7-92c32c96283d>\"\u001b[0;36m, line \u001b[0;32m2\u001b[0m\n\u001b[0;31m    **\u001b[0m\n\u001b[0m    ^\u001b[0m\n\u001b[0;31mSyntaxError\u001b[0m\u001b[0;31m:\u001b[0m invalid syntax\n"
     ]
    }
   ],
   "source": [
    "ocorrencia_uf\n",
    "**\n",
    "ocorrencia_aerodomo\n",
    "###!\n",
    "####\n",
    "****\n",
    "*****\n",
    "ocorencia_hora\n",
    "null"
   ]
  },
  {
   "cell_type": "code",
   "execution_count": 16,
   "metadata": {},
   "outputs": [],
   "source": [
    "df.loc[df.ocorrencia_uf == '**',['ocorrencia_uf']] = pd.NA"
   ]
  },
  {
   "cell_type": "code",
   "execution_count": 17,
   "metadata": {},
   "outputs": [
    {
     "output_type": "execute_result",
     "data": {
      "text/plain": [
       "   codigo_ocorrencia  codigo_ocorrencia2 ocorrencia_classificacao  \\\n",
       "0              40211               40211                INCIDENTE   \n",
       "1              40349               40349                INCIDENTE   \n",
       "2              40351               40351                INCIDENTE   \n",
       "3              39527               39527                 ACIDENTE   \n",
       "4              40324               40324                INCIDENTE   \n",
       "\n",
       "    ocorrencia_cidade ocorrencia_uf ocorrencia_aerodromo ocorrencia_dia  \\\n",
       "0      RIO DE JANEIRO            RJ                 ****     2010-01-03   \n",
       "1               BELÉM            PA                 SBBE     2010-01-03   \n",
       "2      RIO DE JANEIRO            RJ                 SBRJ     2010-01-03   \n",
       "3  LUCAS DO RIO VERDE            MT                 ****     2010-01-04   \n",
       "4             PELOTAS            RS                 SBPK     2010-01-05   \n",
       "\n",
       "  ocorrencia_hora total_recomendacoes  \n",
       "0        12:00:00                   0  \n",
       "1        11:05:00                   0  \n",
       "2        03:00:00                   0  \n",
       "3        17:30:00                   0  \n",
       "4        19:25:00                   0  "
      ],
      "text/html": "<div>\n<style scoped>\n    .dataframe tbody tr th:only-of-type {\n        vertical-align: middle;\n    }\n\n    .dataframe tbody tr th {\n        vertical-align: top;\n    }\n\n    .dataframe thead th {\n        text-align: right;\n    }\n</style>\n<table border=\"1\" class=\"dataframe\">\n  <thead>\n    <tr style=\"text-align: right;\">\n      <th></th>\n      <th>codigo_ocorrencia</th>\n      <th>codigo_ocorrencia2</th>\n      <th>ocorrencia_classificacao</th>\n      <th>ocorrencia_cidade</th>\n      <th>ocorrencia_uf</th>\n      <th>ocorrencia_aerodromo</th>\n      <th>ocorrencia_dia</th>\n      <th>ocorrencia_hora</th>\n      <th>total_recomendacoes</th>\n    </tr>\n  </thead>\n  <tbody>\n    <tr>\n      <th>0</th>\n      <td>40211</td>\n      <td>40211</td>\n      <td>INCIDENTE</td>\n      <td>RIO DE JANEIRO</td>\n      <td>RJ</td>\n      <td>****</td>\n      <td>2010-01-03</td>\n      <td>12:00:00</td>\n      <td>0</td>\n    </tr>\n    <tr>\n      <th>1</th>\n      <td>40349</td>\n      <td>40349</td>\n      <td>INCIDENTE</td>\n      <td>BELÉM</td>\n      <td>PA</td>\n      <td>SBBE</td>\n      <td>2010-01-03</td>\n      <td>11:05:00</td>\n      <td>0</td>\n    </tr>\n    <tr>\n      <th>2</th>\n      <td>40351</td>\n      <td>40351</td>\n      <td>INCIDENTE</td>\n      <td>RIO DE JANEIRO</td>\n      <td>RJ</td>\n      <td>SBRJ</td>\n      <td>2010-01-03</td>\n      <td>03:00:00</td>\n      <td>0</td>\n    </tr>\n    <tr>\n      <th>3</th>\n      <td>39527</td>\n      <td>39527</td>\n      <td>ACIDENTE</td>\n      <td>LUCAS DO RIO VERDE</td>\n      <td>MT</td>\n      <td>****</td>\n      <td>2010-01-04</td>\n      <td>17:30:00</td>\n      <td>0</td>\n    </tr>\n    <tr>\n      <th>4</th>\n      <td>40324</td>\n      <td>40324</td>\n      <td>INCIDENTE</td>\n      <td>PELOTAS</td>\n      <td>RS</td>\n      <td>SBPK</td>\n      <td>2010-01-05</td>\n      <td>19:25:00</td>\n      <td>0</td>\n    </tr>\n  </tbody>\n</table>\n</div>"
     },
     "metadata": {},
     "execution_count": 17
    }
   ],
   "source": [
    "df.head()"
   ]
  },
  {
   "cell_type": "code",
   "execution_count": 21,
   "metadata": {},
   "outputs": [],
   "source": [
    "df.replace(['**','###!','####','****','*****','null',' '], pd.NA, inplace=True)"
   ]
  },
  {
   "cell_type": "code",
   "execution_count": 22,
   "metadata": {},
   "outputs": [
    {
     "output_type": "execute_result",
     "data": {
      "text/plain": [
       "   codigo_ocorrencia  codigo_ocorrencia2 ocorrencia_classificacao  \\\n",
       "0              40211               40211                INCIDENTE   \n",
       "1              40349               40349                INCIDENTE   \n",
       "2              40351               40351                INCIDENTE   \n",
       "3              39527               39527                 ACIDENTE   \n",
       "4              40324               40324                INCIDENTE   \n",
       "\n",
       "    ocorrencia_cidade ocorrencia_uf ocorrencia_aerodromo ocorrencia_dia  \\\n",
       "0      RIO DE JANEIRO            RJ                 <NA>     2010-01-03   \n",
       "1               BELÉM            PA                 SBBE     2010-01-03   \n",
       "2      RIO DE JANEIRO            RJ                 SBRJ     2010-01-03   \n",
       "3  LUCAS DO RIO VERDE            MT                 <NA>     2010-01-04   \n",
       "4             PELOTAS            RS                 SBPK     2010-01-05   \n",
       "\n",
       "  ocorrencia_hora total_recomendacoes  \n",
       "0        12:00:00                   0  \n",
       "1        11:05:00                   0  \n",
       "2        03:00:00                   0  \n",
       "3        17:30:00                   0  \n",
       "4        19:25:00                   0  "
      ],
      "text/html": "<div>\n<style scoped>\n    .dataframe tbody tr th:only-of-type {\n        vertical-align: middle;\n    }\n\n    .dataframe tbody tr th {\n        vertical-align: top;\n    }\n\n    .dataframe thead th {\n        text-align: right;\n    }\n</style>\n<table border=\"1\" class=\"dataframe\">\n  <thead>\n    <tr style=\"text-align: right;\">\n      <th></th>\n      <th>codigo_ocorrencia</th>\n      <th>codigo_ocorrencia2</th>\n      <th>ocorrencia_classificacao</th>\n      <th>ocorrencia_cidade</th>\n      <th>ocorrencia_uf</th>\n      <th>ocorrencia_aerodromo</th>\n      <th>ocorrencia_dia</th>\n      <th>ocorrencia_hora</th>\n      <th>total_recomendacoes</th>\n    </tr>\n  </thead>\n  <tbody>\n    <tr>\n      <th>0</th>\n      <td>40211</td>\n      <td>40211</td>\n      <td>INCIDENTE</td>\n      <td>RIO DE JANEIRO</td>\n      <td>RJ</td>\n      <td>&lt;NA&gt;</td>\n      <td>2010-01-03</td>\n      <td>12:00:00</td>\n      <td>0</td>\n    </tr>\n    <tr>\n      <th>1</th>\n      <td>40349</td>\n      <td>40349</td>\n      <td>INCIDENTE</td>\n      <td>BELÉM</td>\n      <td>PA</td>\n      <td>SBBE</td>\n      <td>2010-01-03</td>\n      <td>11:05:00</td>\n      <td>0</td>\n    </tr>\n    <tr>\n      <th>2</th>\n      <td>40351</td>\n      <td>40351</td>\n      <td>INCIDENTE</td>\n      <td>RIO DE JANEIRO</td>\n      <td>RJ</td>\n      <td>SBRJ</td>\n      <td>2010-01-03</td>\n      <td>03:00:00</td>\n      <td>0</td>\n    </tr>\n    <tr>\n      <th>3</th>\n      <td>39527</td>\n      <td>39527</td>\n      <td>ACIDENTE</td>\n      <td>LUCAS DO RIO VERDE</td>\n      <td>MT</td>\n      <td>&lt;NA&gt;</td>\n      <td>2010-01-04</td>\n      <td>17:30:00</td>\n      <td>0</td>\n    </tr>\n    <tr>\n      <th>4</th>\n      <td>40324</td>\n      <td>40324</td>\n      <td>INCIDENTE</td>\n      <td>PELOTAS</td>\n      <td>RS</td>\n      <td>SBPK</td>\n      <td>2010-01-05</td>\n      <td>19:25:00</td>\n      <td>0</td>\n    </tr>\n  </tbody>\n</table>\n</div>"
     },
     "metadata": {},
     "execution_count": 22
    }
   ],
   "source": [
    "df.head()"
   ]
  },
  {
   "cell_type": "code",
   "execution_count": 24,
   "metadata": {},
   "outputs": [
    {
     "output_type": "execute_result",
     "data": {
      "text/plain": [
       "codigo_ocorrencia            0\n",
       "codigo_ocorrencia2           0\n",
       "ocorrencia_classificacao     0\n",
       "ocorrencia_cidade            0\n",
       "ocorrencia_uf                0\n",
       "ocorrencia_aerodromo         1\n",
       "ocorrencia_dia              11\n",
       "ocorrencia_hora             13\n",
       "total_recomendacoes          8\n",
       "dtype: int64"
      ]
     },
     "metadata": {},
     "execution_count": 24
    }
   ],
   "source": [
    "df.isna().sum()"
   ]
  },
  {
   "cell_type": "code",
   "execution_count": 26,
   "metadata": {},
   "outputs": [
    {
     "output_type": "execute_result",
     "data": {
      "text/plain": [
       "codigo_ocorrencia            0\n",
       "codigo_ocorrencia2           0\n",
       "ocorrencia_classificacao     0\n",
       "ocorrencia_cidade            0\n",
       "ocorrencia_uf                0\n",
       "ocorrencia_aerodromo         1\n",
       "ocorrencia_dia              11\n",
       "ocorrencia_hora             13\n",
       "total_recomendacoes          8\n",
       "dtype: int64"
      ]
     },
     "metadata": {},
     "execution_count": 26
    }
   ],
   "source": [
    "df.isnull().sum()"
   ]
  },
  {
   "cell_type": "code",
   "execution_count": 8,
   "metadata": {},
   "outputs": [],
   "source": [
    "schema = pa.DataFrameSchema(\n",
    "    columns={\n",
    "        \"codigo_ocorrencia\":pa.Column(pa.Int),\n",
    "        \"codigo_ocorrencia2\":pa.Column(pa.Int),\n",
    "        \"ocorrencia_classificacao\":pa.Column(pa.String),\n",
    "        \"ocorrencia_cidade\":pa.Column(pa.String),\n",
    "        \"ocorrencia_uf\":pa.Column(pa.String),\n",
    "        \"ocorrencia_aerodromo\":pa.Column(pa.String),\n",
    "        \"ocorrencia_dia\":pa.Column(pa.DateTime),\n",
    "        \"ocorrencia_hora\":pa.Column(pa.String),\n",
    "        \"total_recomendacoes\":pa.Column(pa.Int)\n",
    "    }\n",
    ")"
   ]
  },
  {
   "cell_type": "code",
   "execution_count": 9,
   "metadata": {},
   "outputs": [
    {
     "output_type": "error",
     "ename": "SchemaError",
     "evalue": "non-nullable series 'ocorrencia_aerodromo' contains null values: {2987: nan}",
     "traceback": [
      "\u001b[0;31m---------------------------------------------------------------------------\u001b[0m",
      "\u001b[0;31mSchemaError\u001b[0m                               Traceback (most recent call last)",
      "\u001b[0;32m<ipython-input-9-dc85ea979a2b>\u001b[0m in \u001b[0;36m<module>\u001b[0;34m\u001b[0m\n\u001b[0;32m----> 1\u001b[0;31m \u001b[0mschema\u001b[0m\u001b[0;34m.\u001b[0m\u001b[0mvalidate\u001b[0m\u001b[0;34m(\u001b[0m\u001b[0mdf\u001b[0m\u001b[0;34m)\u001b[0m\u001b[0;34m\u001b[0m\u001b[0;34m\u001b[0m\u001b[0m\n\u001b[0m",
      "\u001b[0;32m~/anaconda3/envs/ambiente/lib/python3.8/site-packages/pandera/schemas.py\u001b[0m in \u001b[0;36mvalidate\u001b[0;34m(self, check_obj, head, tail, sample, random_state, lazy, inplace)\u001b[0m\n\u001b[1;32m    590\u001b[0m                 \u001b[0mcheck_results\u001b[0m\u001b[0;34m.\u001b[0m\u001b[0mappend\u001b[0m\u001b[0;34m(\u001b[0m\u001b[0misinstance\u001b[0m\u001b[0;34m(\u001b[0m\u001b[0mresult\u001b[0m\u001b[0;34m,\u001b[0m \u001b[0mpd\u001b[0m\u001b[0;34m.\u001b[0m\u001b[0mDataFrame\u001b[0m\u001b[0;34m)\u001b[0m\u001b[0;34m)\u001b[0m\u001b[0;34m\u001b[0m\u001b[0;34m\u001b[0m\u001b[0m\n\u001b[1;32m    591\u001b[0m             \u001b[0;32mexcept\u001b[0m \u001b[0merrors\u001b[0m\u001b[0;34m.\u001b[0m\u001b[0mSchemaError\u001b[0m \u001b[0;32mas\u001b[0m \u001b[0merr\u001b[0m\u001b[0;34m:\u001b[0m\u001b[0;34m\u001b[0m\u001b[0;34m\u001b[0m\u001b[0m\n\u001b[0;32m--> 592\u001b[0;31m                 \u001b[0merror_handler\u001b[0m\u001b[0;34m.\u001b[0m\u001b[0mcollect_error\u001b[0m\u001b[0;34m(\u001b[0m\u001b[0;34m\"schema_component_check\"\u001b[0m\u001b[0;34m,\u001b[0m \u001b[0merr\u001b[0m\u001b[0;34m)\u001b[0m\u001b[0;34m\u001b[0m\u001b[0;34m\u001b[0m\u001b[0m\n\u001b[0m\u001b[1;32m    593\u001b[0m             \u001b[0;32mexcept\u001b[0m \u001b[0merrors\u001b[0m\u001b[0;34m.\u001b[0m\u001b[0mSchemaErrors\u001b[0m \u001b[0;32mas\u001b[0m \u001b[0merr\u001b[0m\u001b[0;34m:\u001b[0m\u001b[0;34m\u001b[0m\u001b[0;34m\u001b[0m\u001b[0m\n\u001b[1;32m    594\u001b[0m                 \u001b[0;32mfor\u001b[0m \u001b[0mschema_error_dict\u001b[0m \u001b[0;32min\u001b[0m \u001b[0merr\u001b[0m\u001b[0;34m.\u001b[0m\u001b[0mschema_errors\u001b[0m\u001b[0;34m:\u001b[0m\u001b[0;34m\u001b[0m\u001b[0;34m\u001b[0m\u001b[0m\n",
      "\u001b[0;32m~/anaconda3/envs/ambiente/lib/python3.8/site-packages/pandera/error_handlers.py\u001b[0m in \u001b[0;36mcollect_error\u001b[0;34m(self, reason_code, schema_error, original_exc)\u001b[0m\n\u001b[1;32m     30\u001b[0m         \"\"\"\n\u001b[1;32m     31\u001b[0m         \u001b[0;32mif\u001b[0m \u001b[0;32mnot\u001b[0m \u001b[0mself\u001b[0m\u001b[0;34m.\u001b[0m\u001b[0m_lazy\u001b[0m\u001b[0;34m:\u001b[0m\u001b[0;34m\u001b[0m\u001b[0;34m\u001b[0m\u001b[0m\n\u001b[0;32m---> 32\u001b[0;31m             \u001b[0;32mraise\u001b[0m \u001b[0mschema_error\u001b[0m \u001b[0;32mfrom\u001b[0m \u001b[0moriginal_exc\u001b[0m\u001b[0;34m\u001b[0m\u001b[0;34m\u001b[0m\u001b[0m\n\u001b[0m\u001b[1;32m     33\u001b[0m \u001b[0;34m\u001b[0m\u001b[0m\n\u001b[1;32m     34\u001b[0m         \u001b[0;31m# delete data of validated object from SchemaError object to prevent\u001b[0m\u001b[0;34m\u001b[0m\u001b[0;34m\u001b[0m\u001b[0;34m\u001b[0m\u001b[0m\n",
      "\u001b[0;32m~/anaconda3/envs/ambiente/lib/python3.8/site-packages/pandera/schemas.py\u001b[0m in \u001b[0;36mvalidate\u001b[0;34m(self, check_obj, head, tail, sample, random_state, lazy, inplace)\u001b[0m\n\u001b[1;32m    582\u001b[0m         \u001b[0;32mfor\u001b[0m \u001b[0mschema_component\u001b[0m \u001b[0;32min\u001b[0m \u001b[0mschema_components\u001b[0m\u001b[0;34m:\u001b[0m\u001b[0;34m\u001b[0m\u001b[0;34m\u001b[0m\u001b[0m\n\u001b[1;32m    583\u001b[0m             \u001b[0;32mtry\u001b[0m\u001b[0;34m:\u001b[0m\u001b[0;34m\u001b[0m\u001b[0;34m\u001b[0m\u001b[0m\n\u001b[0;32m--> 584\u001b[0;31m                 result = schema_component(\n\u001b[0m\u001b[1;32m    585\u001b[0m                     \u001b[0mdf_to_validate\u001b[0m\u001b[0;34m,\u001b[0m\u001b[0;34m\u001b[0m\u001b[0;34m\u001b[0m\u001b[0m\n\u001b[1;32m    586\u001b[0m                     \u001b[0mlazy\u001b[0m\u001b[0;34m=\u001b[0m\u001b[0mlazy\u001b[0m \u001b[0;32mif\u001b[0m \u001b[0mschema_component\u001b[0m\u001b[0;34m.\u001b[0m\u001b[0mhas_subcomponents\u001b[0m \u001b[0;32melse\u001b[0m \u001b[0;32mNone\u001b[0m\u001b[0;34m,\u001b[0m\u001b[0;34m\u001b[0m\u001b[0;34m\u001b[0m\u001b[0m\n",
      "\u001b[0;32m~/anaconda3/envs/ambiente/lib/python3.8/site-packages/pandera/schemas.py\u001b[0m in \u001b[0;36m__call__\u001b[0;34m(self, check_obj, head, tail, sample, random_state, lazy, inplace)\u001b[0m\n\u001b[1;32m   1883\u001b[0m     ) -> Union[pd.DataFrame, pd.Series]:\n\u001b[1;32m   1884\u001b[0m         \u001b[0;34m\"\"\"Alias for ``validate`` method.\"\"\"\u001b[0m\u001b[0;34m\u001b[0m\u001b[0;34m\u001b[0m\u001b[0m\n\u001b[0;32m-> 1885\u001b[0;31m         return self.validate(\n\u001b[0m\u001b[1;32m   1886\u001b[0m             \u001b[0mcheck_obj\u001b[0m\u001b[0;34m,\u001b[0m \u001b[0mhead\u001b[0m\u001b[0;34m,\u001b[0m \u001b[0mtail\u001b[0m\u001b[0;34m,\u001b[0m \u001b[0msample\u001b[0m\u001b[0;34m,\u001b[0m \u001b[0mrandom_state\u001b[0m\u001b[0;34m,\u001b[0m \u001b[0mlazy\u001b[0m\u001b[0;34m,\u001b[0m \u001b[0minplace\u001b[0m\u001b[0;34m\u001b[0m\u001b[0;34m\u001b[0m\u001b[0m\n\u001b[1;32m   1887\u001b[0m         )\n",
      "\u001b[0;32m~/anaconda3/envs/ambiente/lib/python3.8/site-packages/pandera/schema_components.py\u001b[0m in \u001b[0;36mvalidate\u001b[0;34m(self, check_obj, head, tail, sample, random_state, lazy, inplace)\u001b[0m\n\u001b[1;32m    209\u001b[0m                     )\n\u001b[1;32m    210\u001b[0m             \u001b[0;32melse\u001b[0m\u001b[0;34m:\u001b[0m\u001b[0;34m\u001b[0m\u001b[0;34m\u001b[0m\u001b[0m\n\u001b[0;32m--> 211\u001b[0;31m                 \u001b[0mvalidate_column\u001b[0m\u001b[0;34m(\u001b[0m\u001b[0mcheck_obj\u001b[0m\u001b[0;34m,\u001b[0m \u001b[0mcolumn_name\u001b[0m\u001b[0;34m)\u001b[0m\u001b[0;34m\u001b[0m\u001b[0;34m\u001b[0m\u001b[0m\n\u001b[0m\u001b[1;32m    212\u001b[0m \u001b[0;34m\u001b[0m\u001b[0m\n\u001b[1;32m    213\u001b[0m         \u001b[0;32mreturn\u001b[0m \u001b[0mcheck_obj\u001b[0m\u001b[0;34m\u001b[0m\u001b[0;34m\u001b[0m\u001b[0m\n",
      "\u001b[0;32m~/anaconda3/envs/ambiente/lib/python3.8/site-packages/pandera/schema_components.py\u001b[0m in \u001b[0;36mvalidate_column\u001b[0;34m(check_obj, column_name)\u001b[0m\n\u001b[1;32m    182\u001b[0m \u001b[0;34m\u001b[0m\u001b[0m\n\u001b[1;32m    183\u001b[0m         \u001b[0;32mdef\u001b[0m \u001b[0mvalidate_column\u001b[0m\u001b[0;34m(\u001b[0m\u001b[0mcheck_obj\u001b[0m\u001b[0;34m,\u001b[0m \u001b[0mcolumn_name\u001b[0m\u001b[0;34m)\u001b[0m\u001b[0;34m:\u001b[0m\u001b[0;34m\u001b[0m\u001b[0;34m\u001b[0m\u001b[0m\n\u001b[0;32m--> 184\u001b[0;31m             super(Column, copy(self).set_name(column_name)).validate(\n\u001b[0m\u001b[1;32m    185\u001b[0m                 \u001b[0mcheck_obj\u001b[0m\u001b[0;34m,\u001b[0m\u001b[0;34m\u001b[0m\u001b[0;34m\u001b[0m\u001b[0m\n\u001b[1;32m    186\u001b[0m                 \u001b[0mhead\u001b[0m\u001b[0;34m,\u001b[0m\u001b[0;34m\u001b[0m\u001b[0;34m\u001b[0m\u001b[0m\n",
      "\u001b[0;32m~/anaconda3/envs/ambiente/lib/python3.8/site-packages/pandera/schemas.py\u001b[0m in \u001b[0;36mvalidate\u001b[0;34m(self, check_obj, head, tail, sample, random_state, lazy, inplace)\u001b[0m\n\u001b[1;32m   1773\u001b[0m                     \u001b[0mseries\u001b[0m\u001b[0;34m[\u001b[0m\u001b[0mnulls\u001b[0m\u001b[0;34m]\u001b[0m\u001b[0;34m.\u001b[0m\u001b[0mhead\u001b[0m\u001b[0;34m(\u001b[0m\u001b[0mconstants\u001b[0m\u001b[0;34m.\u001b[0m\u001b[0mN_FAILURE_CASES\u001b[0m\u001b[0;34m)\u001b[0m\u001b[0;34m.\u001b[0m\u001b[0mto_dict\u001b[0m\u001b[0;34m(\u001b[0m\u001b[0;34m)\u001b[0m\u001b[0;34m,\u001b[0m\u001b[0;34m\u001b[0m\u001b[0;34m\u001b[0m\u001b[0m\n\u001b[1;32m   1774\u001b[0m                 )\n\u001b[0;32m-> 1775\u001b[0;31m                 error_handler.collect_error(\n\u001b[0m\u001b[1;32m   1776\u001b[0m                     \u001b[0;34m\"series_contains_nulls\"\u001b[0m\u001b[0;34m,\u001b[0m\u001b[0;34m\u001b[0m\u001b[0;34m\u001b[0m\u001b[0m\n\u001b[1;32m   1777\u001b[0m                     errors.SchemaError(\n",
      "\u001b[0;32m~/anaconda3/envs/ambiente/lib/python3.8/site-packages/pandera/error_handlers.py\u001b[0m in \u001b[0;36mcollect_error\u001b[0;34m(self, reason_code, schema_error, original_exc)\u001b[0m\n\u001b[1;32m     30\u001b[0m         \"\"\"\n\u001b[1;32m     31\u001b[0m         \u001b[0;32mif\u001b[0m \u001b[0;32mnot\u001b[0m \u001b[0mself\u001b[0m\u001b[0;34m.\u001b[0m\u001b[0m_lazy\u001b[0m\u001b[0;34m:\u001b[0m\u001b[0;34m\u001b[0m\u001b[0;34m\u001b[0m\u001b[0m\n\u001b[0;32m---> 32\u001b[0;31m             \u001b[0;32mraise\u001b[0m \u001b[0mschema_error\u001b[0m \u001b[0;32mfrom\u001b[0m \u001b[0moriginal_exc\u001b[0m\u001b[0;34m\u001b[0m\u001b[0;34m\u001b[0m\u001b[0m\n\u001b[0m\u001b[1;32m     33\u001b[0m \u001b[0;34m\u001b[0m\u001b[0m\n\u001b[1;32m     34\u001b[0m         \u001b[0;31m# delete data of validated object from SchemaError object to prevent\u001b[0m\u001b[0;34m\u001b[0m\u001b[0;34m\u001b[0m\u001b[0;34m\u001b[0m\u001b[0m\n",
      "\u001b[0;31mSchemaError\u001b[0m: non-nullable series 'ocorrencia_aerodromo' contains null values: {2987: nan}"
     ]
    }
   ],
   "source": [
    "schema.validate(df)"
   ]
  },
  {
   "cell_type": "code",
   "execution_count": null,
   "metadata": {},
   "outputs": [],
   "source": []
  }
 ]
}